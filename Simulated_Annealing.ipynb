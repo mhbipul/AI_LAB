{
  "nbformat": 4,
  "nbformat_minor": 0,
  "metadata": {
    "colab": {
      "provenance": []
    },
    "kernelspec": {
      "name": "python3",
      "display_name": "Python 3"
    },
    "language_info": {
      "name": "python"
    }
  },
  "cells": [
    {
      "cell_type": "code",
      "execution_count": 2,
      "metadata": {
        "id": "XIUXZfJIsBpm",
        "colab": {
          "base_uri": "https://localhost:8080/"
        },
        "outputId": "f4c45891-efdd-4b10-80b6-3a5a7bc4d555"
      },
      "outputs": [
        {
          "output_type": "stream",
          "name": "stdout",
          "text": [
            "[[1, 8, 3], [7, 4, 2], [5, 0, 6]]\n"
          ]
        }
      ],
      "source": [
        "import random\n",
        "import copy\n",
        "import math\n",
        "\n",
        "def schedule(t):\n",
        "    if t >= 500:\n",
        "        return 0\n",
        "    else:\n",
        "        return 500 - t\n",
        "\n",
        "def h1(state):\n",
        "    # heuristic function that returns the number of misplaced tiles in the state\n",
        "    num_misplaced_tiles = 0\n",
        "    goal_state = [[0, 1, 2], [3, 4, 5], [6, 7, 8]]\n",
        "    for i in range(3):\n",
        "        for j in range(3):\n",
        "            if state[i][j] != goal_state[i][j]:\n",
        "                num_misplaced_tiles += 1\n",
        "    return num_misplaced_tiles\n",
        "\n",
        "def h2(state):\n",
        "    # heuristic function that returns the Manhattan distance between the current state and the goal state\n",
        "    manhattan_distance = 0\n",
        "    goal_state = [[0, 1, 2], [3, 4, 5], [6, 7, 8]]\n",
        "    for i in range(3):\n",
        "        for j in range(3):\n",
        "            if state[i][j] != 0:\n",
        "                row_distance = abs(i - (state[i][j] // 3))\n",
        "                col_distance = abs(j - (state[i][j] % 3))\n",
        "                manhattan_distance += row_distance + col_distance\n",
        "    return manhattan_distance\n",
        "\n",
        "def get_random_successor(state):\n",
        "    # returns a random successor of the given state\n",
        "    neighbors = []\n",
        "    for i in range(3):\n",
        "        for j in range(3):\n",
        "            if state[i][j] == 0:\n",
        "                if i > 0:\n",
        "                    neighbor = copy.deepcopy(state)\n",
        "                    neighbor[i][j], neighbor[i-1][j] = neighbor[i-1][j], neighbor[i][j]\n",
        "                    neighbors.append(neighbor)\n",
        "                if i < 2:\n",
        "                    neighbor = copy.deepcopy(state)\n",
        "                    neighbor[i][j], neighbor[i+1][j] = neighbor[i+1][j], neighbor[i][j]\n",
        "                    neighbors.append(neighbor)\n",
        "                if j > 0:\n",
        "                    neighbor = copy.deepcopy(state)\n",
        "                    neighbor[i][j], neighbor[i][j-1] = neighbor[i][j-1], neighbor[i][j]\n",
        "                    neighbors.append(neighbor)\n",
        "                if j < 2:\n",
        "                    neighbor = copy.deepcopy(state)\n",
        "                    neighbor[i][j], neighbor[i][j+1] = neighbor[i][j+1], neighbor[i][j]\n",
        "                    neighbors.append(neighbor)\n",
        "                break\n",
        "        if len(neighbors) > 0:\n",
        "            break\n",
        "    return random.choice(neighbors)\n",
        "\n",
        "def simulated_annealing(start_state, schedule):\n",
        "    current = start_state\n",
        "    for t in range(1, 1000):\n",
        "        temperature = schedule(t)\n",
        "        if temperature == 0:\n",
        "            return current\n",
        "        next_state = get_random_successor(current)\n",
        "        delta_e = h2(next_state) - h2(current)\n",
        "        if delta_e > 0:\n",
        "            current = next_state\n",
        "        else:\n",
        "            probability = math.exp(delta_e / temperature)\n",
        "            if random.uniform(0, 1) < probability:\n",
        "                current = next_state\n",
        "    return current\n",
        "\n",
        "start_state = [[3, 1, 2], [6, 4, 0], [7, 8, 5]]\n",
        "print(simulated_annealing(start_state, schedule))\n"
      ]
    }
  ]
}