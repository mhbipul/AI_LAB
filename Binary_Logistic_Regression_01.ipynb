{
  "nbformat": 4,
  "nbformat_minor": 0,
  "metadata": {
    "colab": {
      "provenance": []
    },
    "kernelspec": {
      "name": "python3",
      "display_name": "Python 3"
    },
    "language_info": {
      "name": "python"
    }
  },
  "cells": [
    {
      "cell_type": "code",
      "execution_count": 2,
      "metadata": {
        "colab": {
          "base_uri": "https://localhost:8080/",
          "height": 680
        },
        "id": "pjp3AkO2ySMV",
        "outputId": "989fd47c-5b0d-4b7a-ca70-4e3acb581a0f"
      },
      "outputs": [
        {
          "output_type": "stream",
          "name": "stdout",
          "text": [
            "[6.0, 148.0, 72.0, 35.0, 0.0, 33.6, 0.627, 50.0, 1.0]\n",
            "[1.0, 85.0, 66.0, 29.0, 0.0, 26.6, 0.351, 31.0, 0.0]\n",
            "[8.0, 183.0, 64.0, 0.0, 0.0, 23.3, 0.672, 32.0, 1.0]\n",
            "[1.0, 89.0, 66.0, 23.0, 94.0, 28.1, 0.167, 21.0, 0.0]\n",
            "[0.0, 137.0, 40.0, 35.0, 168.0, 43.1, 2.288, 33.0, 1.0]\n"
          ]
        },
        {
          "output_type": "stream",
          "name": "stderr",
          "text": [
            "<ipython-input-2-7992ce292fee>:43: RuntimeWarning: divide by zero encountered in log\n",
            "  J = - y * np.log(h) - (1 - y) * np.log(1 - h)\n",
            "<ipython-input-2-7992ce292fee>:43: RuntimeWarning: invalid value encountered in double_scalars\n",
            "  J = - y * np.log(h) - (1 - y) * np.log(1 - h)\n",
            "<ipython-input-2-7992ce292fee>:23: RuntimeWarning: overflow encountered in exp\n",
            "  return 1 / (1 + np.exp(-z))\n"
          ]
        },
        {
          "output_type": "stream",
          "name": "stdout",
          "text": [
            "Validation Accuracy: 73.04%\n"
          ]
        },
        {
          "output_type": "display_data",
          "data": {
            "text/plain": [
              "<Figure size 640x480 with 1 Axes>"
            ],
            "image/png": "[encoded data removed]"
          },
          "metadata": {}
        }
      ],
      "source": [
        "import numpy as np\n",
        "import matplotlib.pyplot as plt\n",
        "from numpy import genfromtxt\n",
        "\n",
        "\n",
        "# Load the diabetes dataset into a 2D Python list\n",
        "data_path = 'diabetes.csv'\n",
        "data = genfromtxt(data_path, delimiter=',')\n",
        "diabetes_data = data.tolist()\n",
        "for i in range(5):\n",
        "  print(diabetes_data[i])\n",
        "type(diabetes_data)\n",
        "\n",
        "# Randomly split the dataset into Training (70%), Validation (15%) and Test (15%) set\n",
        "np.random.shuffle(diabetes_data)\n",
        "n_samples = len(diabetes_data)\n",
        "train_set = diabetes_data[:int(0.7*n_samples)]\n",
        "val_set = diabetes_data[int(0.7*n_samples):int(0.85*n_samples)]\n",
        "test_set = diabetes_data[int(0.85*n_samples):]\n",
        "\n",
        "# Define the sigmoid function\n",
        "def sigmoid(z):\n",
        "    return 1 / (1 + np.exp(-z))\n",
        "\n",
        "# Concatenate 1 to each sample in the training set and initialize 𝚹 randomly\n",
        "n_features = len(train_set[0]) - 1\n",
        "train_set_X = np.array([sample[:-1] for sample in train_set])\n",
        "train_set_X = np.concatenate([train_set_X, np.ones((train_set_X.shape[0], 1))], axis=1)\n",
        "theta = np.random.rand(n_features + 1)\n",
        "\n",
        "# Train the logistic regression model\n",
        "max_iter = 500\n",
        "lr = 0.01\n",
        "N_train = len(train_set_X)\n",
        "history = []\n",
        "for itr in range(max_iter):\n",
        "    TJ = 0\n",
        "    for i in range(N_train):\n",
        "        x = train_set_X[i]\n",
        "        y = train_set[i][-1]\n",
        "        z = np.dot(x, theta)\n",
        "        h = sigmoid(z)\n",
        "        J = - y * np.log(h) - (1 - y) * np.log(1 - h)\n",
        "        TJ += J\n",
        "        dv = np.dot(x, (h - y))\n",
        "        theta = theta - lr * dv\n",
        "    TJ = TJ / N_train\n",
        "    history.append(TJ)\n",
        "\n",
        "# Compute the accuracy on the validation set\n",
        "N_val = len(val_set)\n",
        "correct = 0\n",
        "for i in range(N_val):\n",
        "    x = val_set[i][:-1]\n",
        "    y = val_set[i][-1]\n",
        "    z = np.dot(np.concatenate([x, [1]]), theta)\n",
        "    h = sigmoid(z)\n",
        "    if h >= 0.5:\n",
        "        pred_label = 1\n",
        "    else:\n",
        "        pred_label = 0\n",
        "    if pred_label == y:\n",
        "        correct += 1\n",
        "val_acc = correct * 100 / N_val\n",
        "print(\"Validation Accuracy: {:.2f}%\".format(val_acc))\n",
        "\n",
        "# Plot the training loss vs epoch\n",
        "plt.plot(range(1, max_iter+1), history)\n",
        "plt.xlabel('Epoch')\n",
        "plt.ylabel('Training Loss')\n",
        "plt.title('Training Loss vs Epoch')\n",
        "plt.show()\n"
      ]
    }
  ]
}