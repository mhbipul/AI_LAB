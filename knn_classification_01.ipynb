{
  "nbformat": 4,
  "nbformat_minor": 0,
  "metadata": {
    "colab": {
      "provenance": []
    },
    "kernelspec": {
      "name": "python3",
      "display_name": "Python 3"
    },
    "language_info": {
      "name": "python"
    }
  },
  "cells": [
    {
      "cell_type": "code",
      "execution_count": 3,
      "metadata": {
        "colab": {
          "base_uri": "https://localhost:8080/"
        },
        "id": "XrjwD9-_UD2V",
        "outputId": "f17486a2-6a57-493a-e645-27d815036504"
      },
      "outputs": [
        {
          "output_type": "stream",
          "name": "stdout",
          "text": [
            "[5.1, 3.5, 1.4, 0.2, 0.0]\n",
            "[4.9, 3.0, 1.4, 0.2, 0.0]\n",
            "[4.7, 3.2, 1.3, 0.2, 0.0]\n",
            "[4.6, 3.1, 1.5, 0.2, 0.0]\n",
            "[5.0, 3.6, 1.4, 0.2, 0.0]\n",
            "95.0\n"
          ]
        }
      ],
      "source": [
        "import numpy as np\n",
        "import random\n",
        "import math\n",
        "from numpy import genfromtxt\n",
        "data_path = 'iris.csv'\n",
        "my_data = genfromtxt(data_path, delimiter=',')\n",
        "\n",
        "#my_data.shape\n",
        "type(my_data)\n",
        "\n",
        "data = my_data.tolist()\n",
        "for i in range(5):\n",
        "  print(data[i])\n",
        "type(data)\n",
        "\n",
        "\n",
        "\n",
        "Train_set = []\n",
        "Val_set = [] \n",
        "Test_set = []\n",
        "random.shuffle(data)\n",
        "for S in data:\n",
        "  R = random.uniform(0, 1)\n",
        "  if R>=0 and R<=0.7:\n",
        "   Train_set.append(S)\n",
        "  elif R>0.7 and R<=0.85:\n",
        "   Val_set.append(S)\n",
        "  else:\n",
        "   Test_set.append(S)\n",
        "\n",
        "def mejority(count,count1,count2):\n",
        "  if (count>count1 and count>count2):\n",
        "    return 0\n",
        "  elif (count1>count and count1>count2):\n",
        "    return 1\n",
        "  else:\n",
        "    return 2\n",
        "\n",
        "def knn_classification(data,Train_set,Val_set,Test_set):\n",
        "  k = 5\n",
        "  c_val = 0\n",
        "  v_count = 0\n",
        "  for v in Val_set:\n",
        "    count = 0\n",
        "    count1 = 0\n",
        "    count2 = 0\n",
        "    l = []\n",
        "    for t in Train_set:\n",
        "      a = np.array(v[:4])\n",
        "      b = np.array(t[:4])\n",
        "      distance = np.linalg.norm(a-b)\n",
        "      tmp = [distance,t[-1]]\n",
        "      l.append(tmp)\n",
        "    l.sort()\n",
        "    l1 = l[:k]\n",
        "    for x in l1:\n",
        "      if (x[-1] == 0):\n",
        "        count+=1\n",
        "      elif (x[-1] == 1):\n",
        "        count1+=1\n",
        "      else:\n",
        "        count2+=1\n",
        "    m = mejority(count,count1,count2)\n",
        "    if (m == v[-1]):\n",
        "      c_val+=1\n",
        "    v_count+=1\n",
        "  \n",
        "  validation_accuracy = (c_val)/(v_count) * 100\n",
        "  print(validation_accuracy)\n",
        "      \n",
        "knn_classification(data,Train_set,Val_set,Test_set)"
      ]
    }
  ]
}