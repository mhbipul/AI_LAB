{
  "nbformat": 4,
  "nbformat_minor": 0,
  "metadata": {
    "colab": {
      "provenance": []
    },
    "kernelspec": {
      "name": "python3",
      "display_name": "Python 3"
    },
    "language_info": {
      "name": "python"
    }
  },
  "cells": [
    {
      "cell_type": "code",
      "execution_count": 4,
      "metadata": {
        "colab": {
          "base_uri": "https://localhost:8080/"
        },
        "id": "mq0Zea46A05L",
        "outputId": "49196b64-5030-4ea2-cf1b-736e60499a0b"
      },
      "outputs": [
        {
          "output_type": "stream",
          "name": "stdout",
          "text": [
            "solution [[3, 1, 2], [6, 4, 5], [7, 0, 8]] h=4\n"
          ]
        }
      ],
      "source": [
        "import random\n",
        "import math\n",
        "\n",
        "# Define the problem\n",
        "initial_state = [[3, 1, 2], [6, 4, 0], [ 7, 8, 5]]\n",
        "goal_state = [[0, 1, 2], [3, 4, 5], [6, 7, 8]]\n",
        "\n",
        "def get_neighbors(state):\n",
        "    neighbors = []\n",
        "    empty_row, empty_col = None, None\n",
        "    # Find the empty cell\n",
        "    for i in range(3):\n",
        "        for j in range(3):\n",
        "            if state[i][j] == 0:\n",
        "                empty_row, empty_col = i, j\n",
        "                break\n",
        "        if empty_row is not None:\n",
        "            break\n",
        "    # Generate neighbors by swapping the empty cell with its adjacent cells\n",
        "    for drow, dcol in [(1, 0), (-1, 0), (0, 1), (0, -1)]:\n",
        "        new_row, new_col = empty_row + drow, empty_col + dcol\n",
        "        if 0 <= new_row < 3 and 0 <= new_col < 3:\n",
        "            new_state = [row[:] for row in state]  # Make a copy of the state\n",
        "            new_state[empty_row][empty_col], new_state[new_row][new_col] = new_state[new_row][new_col], new_state[empty_row][empty_col]  # Swap the cells\n",
        "            neighbors.append(new_state)\n",
        "    return neighbors\n",
        "\n",
        "def get_value(state):\n",
        "    # Compute the number of moves required to transform the state to the goal state\n",
        "    value = 0\n",
        "    for i in range(3):\n",
        "        for j in range(3):\n",
        "            if state[i][j] != goal_state[i][j]:\n",
        "                value += 1\n",
        "    return value\n",
        "\n",
        "def simulated_annealing(schedule):\n",
        "    current = initial_state\n",
        "    for t in range(1, len(schedule) + 1):\n",
        "        T = schedule[t - 1]\n",
        "        if T == 0:\n",
        "            return current\n",
        "        neighbors = get_neighbors(current)\n",
        "        next = random.choice(neighbors)\n",
        "        delta_E = get_value(next) - get_value(current)\n",
        "        if delta_E <= 0 or math.exp(-delta_E / T) > random.random():\n",
        "            current = next\n",
        "            if get_value(current) == 0:\n",
        "                return current\n",
        "    return current\n",
        "\n",
        "# Define the schedule\n",
        "schedule = [100, 90, 80, 70, 60, 50, 40, 30, 20, 10, 0]\n",
        "\n",
        "# Run the algorithm\n",
        "solution = simulated_annealing(schedule)\n",
        "\n",
        "# Print the solution\n",
        "print(\"solution\", solution, \"h=\" + str(get_value(solution)))\n"
      ]
    }
  ]
}