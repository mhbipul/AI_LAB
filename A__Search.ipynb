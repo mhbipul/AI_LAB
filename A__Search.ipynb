{
  "nbformat": 4,
  "nbformat_minor": 0,
  "metadata": {
    "colab": {
      "provenance": []
    },
    "kernelspec": {
      "name": "python3",
      "display_name": "Python 3"
    },
    "language_info": {
      "name": "python"
    }
  },
  "cells": [
    {
      "cell_type": "markdown",
      "source": [
        "#A* Search"
      ],
      "metadata": {
        "id": "uLo43xh6ClbP"
      }
    },
    {
      "cell_type": "code",
      "execution_count": 2,
      "metadata": {
        "colab": {
          "base_uri": "https://localhost:8080/"
        },
        "id": "DcjwDi-tCj9b",
        "outputId": "ddb1289f-7d10-4c39-8cb8-6b633fdc869d"
      },
      "outputs": [
        {
          "output_type": "stream",
          "name": "stdout",
          "text": [
            "graph\n",
            "S (6, 0) ---> [('A', 1), ('C', 2), ('D', 4)]\n",
            "\t A 1\n",
            "\t C 2\n",
            "\t D 4\n",
            "A (6, 0) ---> [('B', 2)]\n",
            "\t B 2\n",
            "B (1, 0) ---> [('A', 2), ('G', 1)]\n",
            "\t A 2\n",
            "\t G 1\n",
            "C (2, 0) ---> [('S', 2), ('G', 4)]\n",
            "\t S 2\n",
            "\t G 4\n",
            "D (1, 0) ---> [('G', 4)]\n",
            "\t G 4\n",
            "G (0, 0) ---> []\n",
            "start S goal G\n",
            "Solution Path : ['S', 'C', 'G']\n",
            "Solution Cost: 6\n"
          ]
        }
      ],
      "source": [
        "import math\n",
        "from queue import PriorityQueue\n",
        "\n",
        "# Euclidean distance\n",
        "def euclidean_distance(a, b):\n",
        "    x1, y1 = coords[a]\n",
        "    x2, y2 = coords[b]\n",
        "    return math.sqrt((x1-x2)**2 + (y1-y2)**2)\n",
        "\n",
        "class State:\n",
        "    # Constructor\n",
        "    def __init__(self, node, parent, g, f):\n",
        "        self.node = node\n",
        "        self.parent = parent\n",
        "        self.g = g\n",
        "        self.f = f\n",
        "\n",
        "    def __lt__(self, other):\n",
        "        return self.f < other.f\n",
        "\n",
        "    def __eq__(self, other):\n",
        "        return self.node == other.node\n",
        "\n",
        "    def __str__(self):\n",
        "        return \"node: {}, g: {}, f: {}\".format(self.node, self.g, self.f)\n",
        "\n",
        "\n",
        "# Read input file\n",
        "coords = {}\n",
        "adjlist = {}\n",
        "with open('input.txt','r') as f:\n",
        "    V = int(f.readline())\n",
        "    for i in range(V):\n",
        "        strs = f.readline().split()\n",
        "        nid, x, y = strs[0], int(strs[1]), int(strs[2])\n",
        "        coords[nid] = (x, y)\n",
        "        adjlist[nid] = []\n",
        "\n",
        "    E = int(f.readline())\n",
        "    for i in range(E):\n",
        "        strs = f.readline().split()\n",
        "        n1, n2, c = strs[0], strs[1], int(strs[2])\n",
        "        adjlist[n1].append((n2, c))\n",
        "\n",
        "    startnid = f.readline().rstrip()\n",
        "    goalnid = f.readline().rstrip()\n",
        "\n",
        "print('graph')\n",
        "for nid in adjlist:\n",
        "    print(nid, coords[nid], '--->',  adjlist[nid])\n",
        "    for tup in adjlist[nid]:\n",
        "        print('\\t', tup[0], tup[1])\n",
        "print('start', startnid, 'goal', goalnid)\n",
        "\n",
        "#A* search\n",
        "minQ = PriorityQueue()\n",
        "g = {}\n",
        "h = {}\n",
        "f = {}\n",
        "\n",
        "h[startnid] = euclidean_distance(startnid, goalnid)\n",
        "g[startnid] = 0\n",
        "f[startnid] = h[startnid]\n",
        "\n",
        "startstate = State(startnid, None, g[startnid], f[startnid])\n",
        "minQ.put(startstate)\n",
        "\n",
        "while not minQ.empty():\n",
        "    currstate = minQ.get()\n",
        "\n",
        "    if currstate.node == goalnid:\n",
        "        path = []\n",
        "        cost = currstate.g\n",
        "        while currstate is not None:\n",
        "            path.append(currstate.node)\n",
        "            currstate = currstate.parent\n",
        "        path.reverse()\n",
        "        print(\"Solution Path : {}\".format(path))\n",
        "        print(\"Solution Cost: {}\".format(cost))\n",
        "        break\n",
        "\n",
        "    for n, c in adjlist[currstate.node]:\n",
        "        newg = currstate.g + c\n",
        "        if n not in g or newg < g[n]:\n",
        "            g[n] = newg\n",
        "            h[n] = euclidean_distance(n, goalnid)\n",
        "            f[n] = g[n] + h[n]\n",
        "            newstate = State(n, currstate, g[n], f[n])\n",
        "            minQ.put(newstate)\n"
      ]
    }
  ]
}