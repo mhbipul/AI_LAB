{
  "nbformat": 4,
  "nbformat_minor": 0,
  "metadata": {
    "colab": {
      "provenance": []
    },
    "kernelspec": {
      "name": "python3",
      "display_name": "Python 3"
    },
    "language_info": {
      "name": "python"
    }
  },
  "cells": [
    {
      "cell_type": "code",
      "execution_count": 3,
      "metadata": {
        "colab": {
          "base_uri": "https://localhost:8080/"
        },
        "id": "yyJ2-LumVoaa",
        "outputId": "f70b5de1-abcb-4377-9f71-d466d66ce2c1"
      },
      "outputs": [
        {
          "output_type": "stream",
          "name": "stdout",
          "text": [
            "[0.0380759064334241, 0.0506801187398187, 0.0616962065186885, 0.0218723549949558, -0.0442234984244464, -0.0348207628376986, -0.0434008456520269, -0.00259226199818282, 0.0199084208763183, -0.0176461251598052, 151.0]\n",
            "[-0.00188201652779104, -0.044641636506989, -0.0514740612388061, -0.0263278347173518, -0.00844872411121698, -0.019163339748222, 0.0744115640787594, -0.0394933828740919, -0.0683297436244215, -0.09220404962683, 75.0]\n",
            "[0.0852989062966783, 0.0506801187398187, 0.0444512133365941, -0.00567061055493425, -0.0455994512826475, -0.0341944659141195, -0.0323559322397657, -0.00259226199818282, 0.00286377051894013, -0.0259303389894746, 141.0]\n",
            "[-0.0890629393522603, -0.044641636506989, -0.0115950145052127, -0.0366564467985606, 0.0121905687618, 0.0249905933641021, -0.0360375700438527, 0.0343088588777263, 0.0226920225667445, -0.0093619113301358, 206.0]\n",
            "[0.00538306037424807, -0.044641636506989, -0.0363846922044735, 0.0218723549949558, 0.00393485161259318, 0.0155961395104161, 0.0081420836051921, -0.00259226199818282, -0.0319914449413559, -0.0466408735636482, 135.0]\n",
            "4466.130612244898\n"
          ]
        }
      ],
      "source": [
        "from numpy import genfromtxt\n",
        "import numpy as np\n",
        "import random\n",
        "import math\n",
        "data_path ='diabetes.csv'\n",
        "my_data = genfromtxt(data_path, delimiter=',')\n",
        "\n",
        "#my_data.shape\n",
        "type(my_data)\n",
        "\n",
        "data = my_data.tolist()\n",
        "for i in range(5):\n",
        "  print(data[i])\n",
        "type(data)\n",
        "\n",
        "\n",
        "\n",
        "Train_set = []\n",
        "Val_set = [] \n",
        "Test_set = []\n",
        "random.shuffle(data)\n",
        "for S in data:\n",
        "  R = random.uniform(0, 1)\n",
        "  if R>=0 and R<=0.7:\n",
        "   Train_set.append(S)\n",
        "  elif R>0.7 and R<=0.85:\n",
        "   Val_set.append(S)\n",
        "  else:\n",
        "   Test_set.append(S)\n",
        "\n",
        "def average(l,k):\n",
        "    l = l[:k]\n",
        "    sum = 0\n",
        "    for i in range(k):\n",
        "        sum += l[i][1]\n",
        "        \n",
        "    return sum/k\n",
        "\n",
        "def knn_regression(data,Train_set,Val_set,Test_set):\n",
        "  k=5\n",
        "  error = 0\n",
        "  v_count = 0\n",
        "  for v in Val_set:\n",
        "    count = 0\n",
        "    count1 = 0\n",
        "    count2 = 0\n",
        "    l = []\n",
        "    for t in Train_set:\n",
        "      a = np.array(v[:10])\n",
        "      b = np.array(t[:10])\n",
        "      distance = np.linalg.norm(a-b)\n",
        "      tmp = [distance,t[-1]]\n",
        "      l.append(tmp)\n",
        "    l.sort()\n",
        "    avg = average(l,k)\n",
        "    error = error+(v[-1]-avg)**2\n",
        "    v_count+=1\n",
        "  Mean_Squared_Error = error/v_count\n",
        "  print(Mean_Squared_Error)\n",
        "   \n",
        "knn_regression(data,Train_set,Val_set,Test_set)"
      ]
    }
  ]
}